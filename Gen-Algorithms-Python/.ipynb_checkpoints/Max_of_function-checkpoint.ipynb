{
 "cells": [
  {
   "cell_type": "code",
   "execution_count": 1,
   "id": "f9925a70-f771-43ea-9883-2867acf20931",
   "metadata": {},
   "outputs": [],
   "source": [
    "#This is the first example in the book\n",
    "#The function to optimize is:\n",
    "# sqrt(pow(x,2)+pow(y,2))\n",
    "#In the range of -100 to 100 for both x and y"
   ]
  },
  {
   "cell_type": "markdown",
   "id": "27f7a30e-4734-4bcb-8419-fdb080f13686",
   "metadata": {},
   "source": [
    "*First Step: define the problem and generate the initial population*"
   ]
  },
  {
   "cell_type": "code",
   "execution_count": 2,
   "id": "ffe23fdc-08be-4ebe-bea0-6ede9eb8c0cb",
   "metadata": {},
   "outputs": [],
   "source": [
    "#Lets import the necesary libraries\n",
    "import random\n",
    "from deap import base\n",
    "from deap import creator\n",
    "from deap import tools"
   ]
  },
  {
   "cell_type": "code",
   "execution_count": 3,
   "id": "c8912698-8c96-4c6a-bf22-b00b836a8f45",
   "metadata": {},
   "outputs": [],
   "source": [
    "#Then let create the objects to define the problem and tipo of individual\n",
    "creator.create(\"FitnessMax\", base.Fitness, weights = (1.0,))\n",
    "creator.create(\"Individual\", list, fitness = creator.FitnessMax)\n",
    "toolbox = base.Toolbox()"
   ]
  },
  {
   "cell_type": "code",
   "execution_count": 4,
   "id": "aea5a42f-c08e-434f-87f9-ddb012d5ed02",
   "metadata": {},
   "outputs": [],
   "source": [
    "#Gene generation\n",
    "toolbox.register(\"attr_uniform\", random.uniform, -100, 100)"
   ]
  },
  {
   "cell_type": "code",
   "execution_count": 5,
   "id": "031d09e3-fbab-4462-a5b9-39b9c7c20ded",
   "metadata": {},
   "outputs": [],
   "source": [
    "#Individuals and population generation\n",
    "toolbox.register(\"individual\", tools.initRepeat, creator.Individual, toolbox.attr_uniform, 2)\n",
    "toolbox.register(\"population\", tools.initRepeat, list, toolbox.individual, 30)"
   ]
  },
  {
   "cell_type": "code",
   "execution_count": 6,
   "id": "cb1879a4-9d76-43d9-91e7-5a62d48b9827",
   "metadata": {},
   "outputs": [],
   "source": [
    "#Save our population in variables\n",
    "individuo = toolbox.individual()\n",
    "poblacion = toolbox.population()"
   ]
  },
  {
   "cell_type": "code",
   "execution_count": 7,
   "id": "570a5e8f-e157-4f4c-b683-ebeb880aed7f",
   "metadata": {},
   "outputs": [
    {
     "name": "stdout",
     "output_type": "stream",
     "text": [
      "[20.25172953904692, -19.32224446373141]\n"
     ]
    }
   ],
   "source": [
    "print(individuo)"
   ]
  },
  {
   "cell_type": "code",
   "execution_count": 8,
   "id": "f16c0de1-fe7c-4814-a58c-d1e988aae719",
   "metadata": {},
   "outputs": [
    {
     "name": "stdout",
     "output_type": "stream",
     "text": [
      "[[1.3880430674501127, -61.29313167252042], [47.31726972619688, 1.000777983158855], [-71.61013272340193, -98.91775741324756], [-40.66147581979398, -88.96912260127634], [-90.09269130995176, 33.07314258035356], [-93.31910604648392, 63.37508365258614], [-31.01015084633599, -45.649269175739526], [-69.46516086463244, -60.969720080796705], [28.95563627612364, 42.50511749455271], [11.767061796685653, 79.47742566865196], [-26.753523617954926, -20.605410463521892], [51.638580755801144, 71.38719240740042], [62.785546889778544, 67.3241921449573], [87.75659908485173, -56.320786899562236], [2.1310203188102435, 21.44683186179614], [-48.77397016272786, -51.88564233603146], [59.73329122359024, -19.144256330011373], [98.5284979904892, -38.712240902057005], [14.831556591666796, -14.987319623150924], [28.01775082215545, 62.20885453905947], [65.46904560335236, 56.596059548579575], [61.09790613407449, -74.94789995925682], [75.36073726011762, 43.079685481747276], [87.97476774653069, 45.364581463793286], [31.34951959144243, -80.6999304964896], [-8.64636017481098, -76.70963213707029], [41.634266135167366, -96.97143161298342], [-42.634034414326536, -20.204129004886312], [-84.60669876798153, 80.85113822851636], [-91.13036663584569, -58.14290710333327]]\n"
     ]
    }
   ],
   "source": [
    "print(poblacion)"
   ]
  },
  {
   "cell_type": "code",
   "execution_count": null,
   "id": "0e1d471d-3e46-4f9f-bbdc-ab7db5b56d7b",
   "metadata": {},
   "outputs": [],
   "source": []
  }
 ],
 "metadata": {
  "kernelspec": {
   "display_name": "Python 3 (ipykernel)",
   "language": "python",
   "name": "python3"
  },
  "language_info": {
   "codemirror_mode": {
    "name": "ipython",
    "version": 3
   },
   "file_extension": ".py",
   "mimetype": "text/x-python",
   "name": "python",
   "nbconvert_exporter": "python",
   "pygments_lexer": "ipython3",
   "version": "3.10.5"
  }
 },
 "nbformat": 4,
 "nbformat_minor": 5
}

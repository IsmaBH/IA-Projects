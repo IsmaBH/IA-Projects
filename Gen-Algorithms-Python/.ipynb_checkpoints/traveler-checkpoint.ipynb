{
 "cells": [
  {
   "cell_type": "code",
   "execution_count": 1,
   "id": "081d162d-8c7f-45c5-b187-6f2b5f2a3bef",
   "metadata": {},
   "outputs": [],
   "source": [
    "#As always start with the necessary libraries\n",
    "import random\n",
    "import json\n",
    "import numpy\n",
    "import matplotlib.pyplot as plt\n",
    "from deap import algorithms\n",
    "from deap import base\n",
    "from deap import creator\n",
    "from deap import tools"
   ]
  },
  {
   "cell_type": "code",
   "execution_count": 2,
   "id": "26df476e-3e14-4ccf-8408-169d7c08227a",
   "metadata": {},
   "outputs": [],
   "source": [
    "#Now lets read the json file that contains the information for the problem\n",
    "with open(\"gr17.json\", \"r\") as tsp_data:\n",
    "    tsp = json.load(tsp_data)"
   ]
  },
  {
   "cell_type": "code",
   "execution_count": 28,
   "id": "0d845148-2926-4147-9181-6ae35aa2af91",
   "metadata": {},
   "outputs": [],
   "source": [
    "#Save the distance matrix in a separate variable\n",
    "distance_map = tsp[\"DistanceMatrix\"]"
   ]
  },
  {
   "cell_type": "code",
   "execution_count": 29,
   "id": "62cd303a-09fb-4a2e-bdde-ae4db0007804",
   "metadata": {},
   "outputs": [],
   "source": [
    "#Save the number of cities to visit\n",
    "IND_SIZE = tsp[\"TourSize\"]"
   ]
  },
  {
   "cell_type": "code",
   "execution_count": 30,
   "id": "8c75a8a0-c139-490a-84bd-2e63680e5b98",
   "metadata": {},
   "outputs": [],
   "source": [
    "#Now create the objects to define the problem and the individual\n",
    "creator.create(\"FitnessMin\", base.Fitness, weights = (-1.0,))\n",
    "creator.create(\"Individual\", list, fitness = creator.FitnessMin)"
   ]
  },
  {
   "cell_type": "code",
   "execution_count": 31,
   "id": "cb5463da-6d55-43e4-9c49-2779f8af440b",
   "metadata": {},
   "outputs": [],
   "source": [
    "#Now the creation of the toolbox\n",
    "toolbox = base.Toolbox()\n",
    "#Generation of a random tour\n",
    "toolbox.register(\"indices\", random.sample, range(IND_SIZE), IND_SIZE)\n",
    "#Generation of individuals and population\n",
    "toolbox.register(\"individual\", tools.initIterate, creator.Individual, toolbox.indices)\n",
    "toolbox.register(\"population\", tools.initRepeat, list, toolbox.individual, 100)"
   ]
  },
  {
   "cell_type": "code",
   "execution_count": 32,
   "id": "ddf9dfb4-ac0c-45f7-a684-284b4ed41a7d",
   "metadata": {},
   "outputs": [],
   "source": [
    "#Now the definition of the target function\n",
    "def evalTSP(individual):\n",
    "    #Distance between the last element and the first\n",
    "    distance = distance_map[individual[-1]][individual[0]]\n",
    "    #Distance between the rest of the cities\n",
    "    for gene1, gene2 in zip(individual[0:-1], individual[1:]):\n",
    "        distance += distance_map[gene1][gene2]\n",
    "    return distance,"
   ]
  },
  {
   "cell_type": "code",
   "execution_count": 33,
   "id": "5e66d64e-c1a8-4b77-8f35-84f8ec6bc78e",
   "metadata": {},
   "outputs": [],
   "source": [
    "#Register of the genetic operations\n",
    "toolbox.register(\"mate\", tools.cxOrdered)\n",
    "toolbox.register(\"mutate\", tools.mutShuffleIndexes, indpb = 0.05)\n",
    "toolbox.register(\"select\", tools.selTournament, tournsize = 3)\n",
    "toolbox.register(\"evaluate\", evalTSP)"
   ]
  },
  {
   "cell_type": "code",
   "execution_count": 34,
   "id": "96c7b978-632a-42f4-8f3a-b886d41de050",
   "metadata": {},
   "outputs": [],
   "source": [
    "#Definition of the plotting function\n",
    "def plot_evolution(log):\n",
    "    gen = log.select(\"gen\")\n",
    "    fit_mins = log.select(\"min\")\n",
    "    fit_maxs = log.select(\"max\")\n",
    "    fit_avgs = log.select(\"avg\")\n",
    "    fig, ax1 = plt.subplots()\n",
    "    ax1.plot(gen, fit_mins, \"b\")\n",
    "    ax1.plot(gen, fit_maxs, \"r\")\n",
    "    ax1.plot(gen, fit_avgs, \"--k\")\n",
    "    ax1.fill_between(gen, fit_mins, fit_maxs, where = fit_maxs >= fit_mins, facecolor = \"g\", alpha = 0.2)\n",
    "    ax1.set_xlabel(\"Generation\")\n",
    "    ax1.set_ylabel(\"Fitness\")\n",
    "    ax1.legend([\"Min\",\"Max\",\"Avg\"])\n",
    "    ax1.set_ylim([2000,6000])\n",
    "    plt.grid(True)\n",
    "    #plt.savefig(\"EvolutionTSP.eps\", dpi = 300)"
   ]
  },
  {
   "cell_type": "code",
   "execution_count": 35,
   "id": "db7145c7-3c64-4749-9e26-a4d64e22789c",
   "metadata": {},
   "outputs": [],
   "source": [
    "#Now definition if the main function\n",
    "def main():\n",
    "    random.seed(100)\n",
    "    CXPB, MUTPB, NGEN = 0.7, 0.3, 120\n",
    "    population = toolbox.population()\n",
    "    MU, LAMBDA = len(population), len(population)\n",
    "    hof = tools.HallOfFame(1)\n",
    "    stats = tools.Statistics(lambda ind: ind.fitness.values)\n",
    "    stats.register(\"avg\", numpy.mean)\n",
    "    stats.register(\"std\", numpy.std)\n",
    "    stats.register(\"min\", numpy.min)\n",
    "    stats.register(\"max\", numpy.max)\n",
    "    logbook = tools.Logbook()\n",
    "    population, logbook = algorithms.eaMuPlusLambda(population, toolbox, MU, LAMBDA, CXPB, MUTPB, NGEN, stats=stats, halloffame=hof)\n",
    "    return hof, logbook"
   ]
  },
  {
   "cell_type": "code",
   "execution_count": 36,
   "id": "e15b0331-5109-40ee-823e-b42948dd2312",
   "metadata": {},
   "outputs": [
    {
     "name": "stdout",
     "output_type": "stream",
     "text": [
      "gen\tnevals\tavg    \tstd    \tmin \tmax \n",
      "0  \t100   \t4676.44\t429.018\t3682\t5519\n",
      "1  \t100   \t4301.35\t335.665\t3682\t5211\n",
      "2  \t100   \t4045.42\t280.624\t3372\t4747\n",
      "3  \t100   \t3837.64\t212.346\t3372\t4298\n",
      "4  \t100   \t3679.43\t185.745\t3327\t4260\n",
      "5  \t100   \t3546.83\t152.571\t3047\t3986\n",
      "6  \t100   \t3419.66\t175.716\t2909\t3976\n",
      "7  \t100   \t3348.5 \t186.321\t2909\t3812\n",
      "8  \t100   \t3242.51\t153.841\t2909\t3496\n",
      "9  \t100   \t3127.2 \t155.873\t2806\t3412\n",
      "10 \t100   \t3020.28\t148.239\t2780\t3412\n",
      "11 \t100   \t2903.78\t97.4645\t2763\t3244\n",
      "12 \t100   \t2847.06\t71.61  \t2590\t3130\n",
      "13 \t100   \t2817.29\t80.5238\t2590\t3264\n",
      "14 \t100   \t2768.84\t80.306 \t2496\t3026\n",
      "15 \t100   \t2719.83\t95.9949\t2418\t2903\n",
      "16 \t100   \t2649.8 \t108.833\t2418\t2823\n",
      "17 \t100   \t2564   \t113.183\t2296\t2780\n",
      "18 \t100   \t2494.67\t93.8402\t2296\t2692\n",
      "19 \t100   \t2423.89\t85.4715\t2261\t2729\n",
      "20 \t100   \t2369.61\t76.0196\t2261\t2783\n",
      "21 \t100   \t2327.38\t53.7522\t2261\t2496\n",
      "22 \t100   \t2291.53\t25.0597\t2261\t2418\n",
      "23 \t100   \t2275.79\t17.5609\t2245\t2296\n",
      "24 \t100   \t2264.85\t13.938 \t2245\t2296\n",
      "25 \t100   \t2255.73\t12.0937\t2199\t2296\n",
      "26 \t100   \t2244.39\t19.022 \t2189\t2261\n",
      "27 \t100   \t2234.76\t31.1015\t2189\t2441\n",
      "28 \t100   \t2215.88\t23.6039\t2189\t2261\n",
      "29 \t100   \t2204.41\t19.9304\t2189\t2332\n",
      "30 \t100   \t2196.62\t8.34599\t2189\t2245\n",
      "31 \t100   \t2192.5 \t4.7697 \t2189\t2199\n",
      "32 \t100   \t2190.1 \t3.1289 \t2189\t2199\n",
      "33 \t100   \t2190.33\t13.2333\t2189\t2322\n",
      "34 \t100   \t2189   \t0      \t2189\t2189\n",
      "35 \t100   \t2189   \t0      \t2189\t2189\n",
      "36 \t100   \t2189   \t0      \t2189\t2189\n",
      "37 \t100   \t2189   \t0      \t2189\t2189\n",
      "38 \t100   \t2189   \t0      \t2189\t2189\n",
      "39 \t100   \t2189   \t0      \t2189\t2189\n",
      "40 \t100   \t2189   \t0      \t2189\t2189\n",
      "41 \t100   \t2189   \t0      \t2189\t2189\n",
      "42 \t100   \t2189   \t0      \t2189\t2189\n",
      "43 \t100   \t2189   \t0      \t2189\t2189\n",
      "44 \t100   \t2189   \t0      \t2189\t2189\n",
      "45 \t100   \t2189   \t0      \t2189\t2189\n",
      "46 \t100   \t2189   \t0      \t2189\t2189\n",
      "47 \t100   \t2189   \t0      \t2189\t2189\n",
      "48 \t100   \t2189   \t0      \t2189\t2189\n",
      "49 \t100   \t2189   \t0      \t2189\t2189\n",
      "50 \t100   \t2189   \t0      \t2189\t2189\n",
      "51 \t100   \t2189   \t0      \t2189\t2189\n",
      "52 \t100   \t2189   \t0      \t2189\t2189\n",
      "53 \t100   \t2189   \t0      \t2189\t2189\n",
      "54 \t100   \t2189   \t0      \t2189\t2189\n",
      "55 \t100   \t2189   \t0      \t2189\t2189\n",
      "56 \t100   \t2189   \t0      \t2189\t2189\n",
      "57 \t100   \t2189   \t0      \t2189\t2189\n",
      "58 \t100   \t2189   \t0      \t2189\t2189\n",
      "59 \t100   \t2189   \t0      \t2189\t2189\n",
      "60 \t100   \t2189   \t0      \t2189\t2189\n",
      "61 \t100   \t2192.05\t30.3471\t2189\t2494\n",
      "62 \t100   \t2189   \t0      \t2189\t2189\n",
      "63 \t100   \t2189   \t0      \t2189\t2189\n",
      "64 \t100   \t2189   \t0      \t2189\t2189\n",
      "65 \t100   \t2189   \t0      \t2189\t2189\n",
      "66 \t100   \t2189   \t0      \t2189\t2189\n",
      "67 \t100   \t2189   \t0      \t2189\t2189\n",
      "68 \t100   \t2189   \t0      \t2189\t2189\n",
      "69 \t100   \t2189   \t0      \t2189\t2189\n",
      "70 \t100   \t2189   \t0      \t2189\t2189\n",
      "71 \t100   \t2189   \t0      \t2189\t2189\n",
      "72 \t100   \t2189   \t0      \t2189\t2189\n",
      "73 \t100   \t2189   \t0      \t2189\t2189\n",
      "74 \t100   \t2189   \t0      \t2189\t2189\n",
      "75 \t100   \t2189   \t0      \t2189\t2189\n",
      "76 \t100   \t2189   \t0      \t2189\t2189\n",
      "77 \t100   \t2189   \t0      \t2189\t2189\n",
      "78 \t100   \t2189   \t0      \t2189\t2189\n",
      "79 \t100   \t2189   \t0      \t2189\t2189\n",
      "80 \t100   \t2189   \t0      \t2189\t2189\n",
      "81 \t100   \t2189   \t0      \t2189\t2189\n",
      "82 \t100   \t2192.19\t31.7401\t2189\t2508\n",
      "83 \t100   \t2190.28\t12.7358\t2189\t2317\n",
      "84 \t100   \t2189   \t0      \t2189\t2189\n",
      "85 \t100   \t2189   \t0      \t2189\t2189\n",
      "86 \t100   \t2189   \t0      \t2189\t2189\n",
      "87 \t100   \t2189   \t0      \t2189\t2189\n",
      "88 \t100   \t2189   \t0      \t2189\t2189\n",
      "89 \t100   \t2189   \t0      \t2189\t2189\n",
      "90 \t100   \t2189   \t0      \t2189\t2189\n",
      "91 \t100   \t2189   \t0      \t2189\t2189\n",
      "92 \t100   \t2189   \t0      \t2189\t2189\n",
      "93 \t100   \t2189   \t0      \t2189\t2189\n",
      "94 \t100   \t2189   \t0      \t2189\t2189\n",
      "95 \t100   \t2189   \t0      \t2189\t2189\n",
      "96 \t100   \t2189   \t0      \t2189\t2189\n",
      "97 \t100   \t2189   \t0      \t2189\t2189\n",
      "98 \t100   \t2195.78\t67.4601\t2189\t2867\n",
      "99 \t100   \t2189   \t0      \t2189\t2189\n",
      "100\t100   \t2189   \t0      \t2189\t2189\n",
      "101\t100   \t2189   \t0      \t2189\t2189\n",
      "102\t100   \t2189   \t0      \t2189\t2189\n",
      "103\t100   \t2189   \t0      \t2189\t2189\n",
      "104\t100   \t2189   \t0      \t2189\t2189\n",
      "105\t100   \t2189   \t0      \t2189\t2189\n",
      "106\t100   \t2189   \t0      \t2189\t2189\n",
      "107\t100   \t2189   \t0      \t2189\t2189\n",
      "108\t100   \t2189   \t0      \t2189\t2189\n",
      "109\t100   \t2189   \t0      \t2189\t2189\n",
      "110\t100   \t2189   \t0      \t2189\t2189\n",
      "111\t100   \t2189   \t0      \t2189\t2189\n",
      "112\t100   \t2189   \t0      \t2189\t2189\n",
      "113\t100   \t2189   \t0      \t2189\t2189\n",
      "114\t100   \t2189   \t0      \t2189\t2189\n",
      "115\t100   \t2189   \t0      \t2189\t2189\n",
      "116\t100   \t2189   \t0      \t2189\t2189\n",
      "117\t100   \t2189   \t0      \t2189\t2189\n",
      "118\t100   \t2189   \t0      \t2189\t2189\n",
      "119\t100   \t2189   \t0      \t2189\t2189\n",
      "120\t100   \t2189   \t0      \t2189\t2189\n",
      "Mejor fitness:  (2189.0,)\n",
      "Mejor individuo:  [15, 11, 8, 3, 6, 7, 5, 16, 13, 14, 9, 1, 4, 10, 2, 12, 0]\n"
     ]
    },
    {
     "ename": "ValueError",
     "evalue": "where size (1) does not match x size (121)",
     "output_type": "error",
     "traceback": [
      "\u001b[1;31m---------------------------------------------------------------------------\u001b[0m",
      "\u001b[1;31mValueError\u001b[0m                                Traceback (most recent call last)",
      "Cell \u001b[1;32mIn[36], line 6\u001b[0m\n\u001b[0;32m      4\u001b[0m \u001b[38;5;28mprint\u001b[39m(\u001b[38;5;124m\"\u001b[39m\u001b[38;5;124mMejor fitness: \u001b[39m\u001b[38;5;124m\"\u001b[39m, best[\u001b[38;5;241m0\u001b[39m]\u001b[38;5;241m.\u001b[39mfitness\u001b[38;5;241m.\u001b[39mvalues)\n\u001b[0;32m      5\u001b[0m \u001b[38;5;28mprint\u001b[39m(\u001b[38;5;124m\"\u001b[39m\u001b[38;5;124mMejor individuo: \u001b[39m\u001b[38;5;124m\"\u001b[39m, best[\u001b[38;5;241m0\u001b[39m])\n\u001b[1;32m----> 6\u001b[0m \u001b[43mplot_evolution\u001b[49m\u001b[43m(\u001b[49m\u001b[43mlog\u001b[49m\u001b[43m)\u001b[49m\n",
      "Cell \u001b[1;32mIn[34], line 11\u001b[0m, in \u001b[0;36mplot_evolution\u001b[1;34m(log)\u001b[0m\n\u001b[0;32m      9\u001b[0m ax1\u001b[38;5;241m.\u001b[39mplot(gen, fit_maxs, \u001b[38;5;124m\"\u001b[39m\u001b[38;5;124mr\u001b[39m\u001b[38;5;124m\"\u001b[39m)\n\u001b[0;32m     10\u001b[0m ax1\u001b[38;5;241m.\u001b[39mplot(gen, fit_avgs, \u001b[38;5;124m\"\u001b[39m\u001b[38;5;124m--k\u001b[39m\u001b[38;5;124m\"\u001b[39m)\n\u001b[1;32m---> 11\u001b[0m \u001b[43max1\u001b[49m\u001b[38;5;241;43m.\u001b[39;49m\u001b[43mfill_between\u001b[49m\u001b[43m(\u001b[49m\u001b[43mgen\u001b[49m\u001b[43m,\u001b[49m\u001b[43m \u001b[49m\u001b[43mfit_mins\u001b[49m\u001b[43m,\u001b[49m\u001b[43m \u001b[49m\u001b[43mfit_maxs\u001b[49m\u001b[43m,\u001b[49m\u001b[43m \u001b[49m\u001b[43mwhere\u001b[49m\u001b[43m \u001b[49m\u001b[38;5;241;43m=\u001b[39;49m\u001b[43m \u001b[49m\u001b[43mfit_maxs\u001b[49m\u001b[43m \u001b[49m\u001b[38;5;241;43m>\u001b[39;49m\u001b[38;5;241;43m=\u001b[39;49m\u001b[43m \u001b[49m\u001b[43mfit_mins\u001b[49m\u001b[43m,\u001b[49m\u001b[43m \u001b[49m\u001b[43mfacecolor\u001b[49m\u001b[43m \u001b[49m\u001b[38;5;241;43m=\u001b[39;49m\u001b[43m \u001b[49m\u001b[38;5;124;43m\"\u001b[39;49m\u001b[38;5;124;43mg\u001b[39;49m\u001b[38;5;124;43m\"\u001b[39;49m\u001b[43m,\u001b[49m\u001b[43m \u001b[49m\u001b[43malpha\u001b[49m\u001b[43m \u001b[49m\u001b[38;5;241;43m=\u001b[39;49m\u001b[43m \u001b[49m\u001b[38;5;241;43m0.2\u001b[39;49m\u001b[43m)\u001b[49m\n\u001b[0;32m     12\u001b[0m ax1\u001b[38;5;241m.\u001b[39mset_xlabel(\u001b[38;5;124m\"\u001b[39m\u001b[38;5;124mGeneration\u001b[39m\u001b[38;5;124m\"\u001b[39m)\n\u001b[0;32m     13\u001b[0m ax1\u001b[38;5;241m.\u001b[39mset_ylabel(\u001b[38;5;124m\"\u001b[39m\u001b[38;5;124mFitness\u001b[39m\u001b[38;5;124m\"\u001b[39m)\n",
      "File \u001b[1;32m~\\AppData\\Local\\Programs\\Python\\Python310\\lib\\site-packages\\matplotlib\\__init__.py:1486\u001b[0m, in \u001b[0;36m_preprocess_data.<locals>.inner\u001b[1;34m(ax, data, *args, **kwargs)\u001b[0m\n\u001b[0;32m   1483\u001b[0m \u001b[38;5;129m@functools\u001b[39m\u001b[38;5;241m.\u001b[39mwraps(func)\n\u001b[0;32m   1484\u001b[0m \u001b[38;5;28;01mdef\u001b[39;00m \u001b[38;5;21minner\u001b[39m(ax, \u001b[38;5;241m*\u001b[39margs, data\u001b[38;5;241m=\u001b[39m\u001b[38;5;28;01mNone\u001b[39;00m, \u001b[38;5;241m*\u001b[39m\u001b[38;5;241m*\u001b[39mkwargs):\n\u001b[0;32m   1485\u001b[0m     \u001b[38;5;28;01mif\u001b[39;00m data \u001b[38;5;129;01mis\u001b[39;00m \u001b[38;5;28;01mNone\u001b[39;00m:\n\u001b[1;32m-> 1486\u001b[0m         \u001b[38;5;28;01mreturn\u001b[39;00m func(\n\u001b[0;32m   1487\u001b[0m             ax,\n\u001b[0;32m   1488\u001b[0m             \u001b[38;5;241m*\u001b[39m\u001b[38;5;28mmap\u001b[39m(sanitize_sequence, args),\n\u001b[0;32m   1489\u001b[0m             \u001b[38;5;241m*\u001b[39m\u001b[38;5;241m*\u001b[39m{k: sanitize_sequence(v) \u001b[38;5;28;01mfor\u001b[39;00m k, v \u001b[38;5;129;01min\u001b[39;00m kwargs\u001b[38;5;241m.\u001b[39mitems()})\n\u001b[0;32m   1491\u001b[0m     bound \u001b[38;5;241m=\u001b[39m new_sig\u001b[38;5;241m.\u001b[39mbind(ax, \u001b[38;5;241m*\u001b[39margs, \u001b[38;5;241m*\u001b[39m\u001b[38;5;241m*\u001b[39mkwargs)\n\u001b[0;32m   1492\u001b[0m     auto_label \u001b[38;5;241m=\u001b[39m (bound\u001b[38;5;241m.\u001b[39marguments\u001b[38;5;241m.\u001b[39mget(label_namer)\n\u001b[0;32m   1493\u001b[0m                   \u001b[38;5;129;01mor\u001b[39;00m bound\u001b[38;5;241m.\u001b[39mkwargs\u001b[38;5;241m.\u001b[39mget(label_namer))\n",
      "File \u001b[1;32m~\\AppData\\Local\\Programs\\Python\\Python310\\lib\\site-packages\\matplotlib\\axes\\_axes.py:5648\u001b[0m, in \u001b[0;36mAxes.fill_between\u001b[1;34m(self, x, y1, y2, where, interpolate, step, **kwargs)\u001b[0m\n\u001b[0;32m   5646\u001b[0m \u001b[38;5;28;01mdef\u001b[39;00m \u001b[38;5;21mfill_between\u001b[39m(\u001b[38;5;28mself\u001b[39m, x, y1, y2\u001b[38;5;241m=\u001b[39m\u001b[38;5;241m0\u001b[39m, where\u001b[38;5;241m=\u001b[39m\u001b[38;5;28;01mNone\u001b[39;00m, interpolate\u001b[38;5;241m=\u001b[39m\u001b[38;5;28;01mFalse\u001b[39;00m,\n\u001b[0;32m   5647\u001b[0m                  step\u001b[38;5;241m=\u001b[39m\u001b[38;5;28;01mNone\u001b[39;00m, \u001b[38;5;241m*\u001b[39m\u001b[38;5;241m*\u001b[39mkwargs):\n\u001b[1;32m-> 5648\u001b[0m     \u001b[38;5;28;01mreturn\u001b[39;00m \u001b[38;5;28mself\u001b[39m\u001b[38;5;241m.\u001b[39m_fill_between_x_or_y(\n\u001b[0;32m   5649\u001b[0m         \u001b[38;5;124m\"\u001b[39m\u001b[38;5;124mx\u001b[39m\u001b[38;5;124m\"\u001b[39m, x, y1, y2,\n\u001b[0;32m   5650\u001b[0m         where\u001b[38;5;241m=\u001b[39mwhere, interpolate\u001b[38;5;241m=\u001b[39minterpolate, step\u001b[38;5;241m=\u001b[39mstep, \u001b[38;5;241m*\u001b[39m\u001b[38;5;241m*\u001b[39mkwargs)\n",
      "File \u001b[1;32m~\\AppData\\Local\\Programs\\Python\\Python310\\lib\\site-packages\\matplotlib\\axes\\_axes.py:5562\u001b[0m, in \u001b[0;36mAxes._fill_between_x_or_y\u001b[1;34m(self, ind_dir, ind, dep1, dep2, where, interpolate, step, **kwargs)\u001b[0m\n\u001b[0;32m   5560\u001b[0m     where \u001b[38;5;241m=\u001b[39m np\u001b[38;5;241m.\u001b[39masarray(where, dtype\u001b[38;5;241m=\u001b[39m\u001b[38;5;28mbool\u001b[39m)\n\u001b[0;32m   5561\u001b[0m     \u001b[38;5;28;01mif\u001b[39;00m where\u001b[38;5;241m.\u001b[39msize \u001b[38;5;241m!=\u001b[39m ind\u001b[38;5;241m.\u001b[39msize:\n\u001b[1;32m-> 5562\u001b[0m         \u001b[38;5;28;01mraise\u001b[39;00m \u001b[38;5;167;01mValueError\u001b[39;00m(\u001b[38;5;124mf\u001b[39m\u001b[38;5;124m\"\u001b[39m\u001b[38;5;124mwhere size (\u001b[39m\u001b[38;5;132;01m{\u001b[39;00mwhere\u001b[38;5;241m.\u001b[39msize\u001b[38;5;132;01m}\u001b[39;00m\u001b[38;5;124m) does not match \u001b[39m\u001b[38;5;124m\"\u001b[39m\n\u001b[0;32m   5563\u001b[0m                          \u001b[38;5;124mf\u001b[39m\u001b[38;5;124m\"\u001b[39m\u001b[38;5;132;01m{\u001b[39;00mind_dir\u001b[38;5;132;01m}\u001b[39;00m\u001b[38;5;124m size (\u001b[39m\u001b[38;5;132;01m{\u001b[39;00mind\u001b[38;5;241m.\u001b[39msize\u001b[38;5;132;01m}\u001b[39;00m\u001b[38;5;124m)\u001b[39m\u001b[38;5;124m\"\u001b[39m)\n\u001b[0;32m   5564\u001b[0m where \u001b[38;5;241m=\u001b[39m where \u001b[38;5;241m&\u001b[39m \u001b[38;5;241m~\u001b[39mfunctools\u001b[38;5;241m.\u001b[39mreduce(\n\u001b[0;32m   5565\u001b[0m     np\u001b[38;5;241m.\u001b[39mlogical_or, \u001b[38;5;28mmap\u001b[39m(np\u001b[38;5;241m.\u001b[39mma\u001b[38;5;241m.\u001b[39mgetmaskarray, [ind, dep1, dep2]))\n\u001b[0;32m   5567\u001b[0m ind, dep1, dep2 \u001b[38;5;241m=\u001b[39m np\u001b[38;5;241m.\u001b[39mbroadcast_arrays(\n\u001b[0;32m   5568\u001b[0m     np\u001b[38;5;241m.\u001b[39matleast_1d(ind), dep1, dep2, subok\u001b[38;5;241m=\u001b[39m\u001b[38;5;28;01mTrue\u001b[39;00m)\n",
      "\u001b[1;31mValueError\u001b[0m: where size (1) does not match x size (121)"
     ]
    },
    {
     "data": {
      "image/png": "[encoded data removed]",
      "text/plain": [
       "<Figure size 640x480 with 1 Axes>"
      ]
     },
     "metadata": {},
     "output_type": "display_data"
    }
   ],
   "source": [
    "#Now the usage of the algorithm\n",
    "if __name__ == \"__main__\":\n",
    "    best, log = main()\n",
    "    print(\"Mejor fitness: \", best[0].fitness.values)\n",
    "    print(\"Mejor individuo: \", best[0])\n",
    "    plot_evolution(log)"
   ]
  },
  {
   "cell_type": "code",
   "execution_count": null,
   "id": "08bb3521-d248-4607-8fef-53c5fc7042d7",
   "metadata": {},
   "outputs": [],
   "source": []
  }
 ],
 "metadata": {
  "kernelspec": {
   "display_name": "Python 3 (ipykernel)",
   "language": "python",
   "name": "python3"
  },
  "language_info": {
   "codemirror_mode": {
    "name": "ipython",
    "version": 3
   },
   "file_extension": ".py",
   "mimetype": "text/x-python",
   "name": "python",
   "nbconvert_exporter": "python",
   "pygments_lexer": "ipython3",
   "version": "3.10.5"
  }
 },
 "nbformat": 4,
 "nbformat_minor": 5
}

{
 "cells": [
  {
   "cell_type": "code",
   "execution_count": 1,
   "id": "f9925a70-f771-43ea-9883-2867acf20931",
   "metadata": {},
   "outputs": [],
   "source": [
    "#This is the first example in the book\n",
    "#The function to optimize is:\n",
    "# sqrt(pow(x,2)+pow(y,2))\n",
    "#In the range of -100 to 100 for both x and y"
   ]
  },
  {
   "cell_type": "markdown",
   "id": "27f7a30e-4734-4bcb-8419-fdb080f13686",
   "metadata": {},
   "source": [
    "*First Step: define the problem and generate the initial population*"
   ]
  },
  {
   "cell_type": "code",
   "execution_count": 3,
   "id": "ffe23fdc-08be-4ebe-bea0-6ede9eb8c0cb",
   "metadata": {},
   "outputs": [],
   "source": [
    "#Lets import the necesary libraries\n",
    "import random\n",
    "from deap import base\n",
    "from deap import creator\n",
    "from deap import tools"
   ]
  },
  {
   "cell_type": "code",
   "execution_count": 5,
   "id": "c8912698-8c96-4c6a-bf22-b00b836a8f45",
   "metadata": {},
   "outputs": [
    {
     "name": "stderr",
     "output_type": "stream",
     "text": [
      "C:\\Users\\Deigo\\AppData\\Local\\Programs\\Python\\Python310\\lib\\site-packages\\deap\\creator.py:185: RuntimeWarning: A class named 'FitnessMax' has already been created and it will be overwritten. Consider deleting previous creation of that class or rename it.\n",
      "  warnings.warn(\"A class named '{0}' has already been created and it \"\n",
      "C:\\Users\\Deigo\\AppData\\Local\\Programs\\Python\\Python310\\lib\\site-packages\\deap\\creator.py:185: RuntimeWarning: A class named 'Individual' has already been created and it will be overwritten. Consider deleting previous creation of that class or rename it.\n",
      "  warnings.warn(\"A class named '{0}' has already been created and it \"\n"
     ]
    }
   ],
   "source": [
    "#Then let create the objects to define the problem and tipo of individual\n",
    "creator.create(\"FitnessMax\", base.Fitness, weights = (1.0,))\n",
    "creator.create(\"Individual\", list, fitness = creator.FitnessMax)\n",
    "toolbox = base.Toolbox()"
   ]
  },
  {
   "cell_type": "code",
   "execution_count": null,
   "id": "aea5a42f-c08e-434f-87f9-ddb012d5ed02",
   "metadata": {},
   "outputs": [],
   "source": []
  }
 ],
 "metadata": {
  "kernelspec": {
   "display_name": "Python 3 (ipykernel)",
   "language": "python",
   "name": "python3"
  },
  "language_info": {
   "codemirror_mode": {
    "name": "ipython",
    "version": 3
   },
   "file_extension": ".py",
   "mimetype": "text/x-python",
   "name": "python",
   "nbconvert_exporter": "python",
   "pygments_lexer": "ipython3",
   "version": "3.10.5"
  }
 },
 "nbformat": 4,
 "nbformat_minor": 5
}

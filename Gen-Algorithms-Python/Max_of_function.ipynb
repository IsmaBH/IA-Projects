{
 "cells": [
  {
   "cell_type": "code",
   "execution_count": 1,
   "id": "f9925a70-f771-43ea-9883-2867acf20931",
   "metadata": {},
   "outputs": [],
   "source": [
    "#This is the first example in the book\n",
    "#The function to optimize is:\n",
    "# sqrt(pow(x,2)+pow(y,2))\n",
    "#In the range of -100 to 100 for both x and y"
   ]
  },
  {
   "cell_type": "markdown",
   "id": "27f7a30e-4734-4bcb-8419-fdb080f13686",
   "metadata": {},
   "source": [
    "*First Step: define the problem and generate the initial population*"
   ]
  },
  {
   "cell_type": "code",
   "execution_count": 1,
   "id": "ffe23fdc-08be-4ebe-bea0-6ede9eb8c0cb",
   "metadata": {},
   "outputs": [],
   "source": [
    "#Lets import the necesary libraries\n",
    "import random\n",
    "import math\n",
    "import numpy as np\n",
    "from deap import base\n",
    "from deap import creator\n",
    "from deap import tools\n",
    "from deap import algorithms\n",
    "import matplotlib.pyplot as plt"
   ]
  },
  {
   "cell_type": "code",
   "execution_count": 2,
   "id": "c8912698-8c96-4c6a-bf22-b00b836a8f45",
   "metadata": {},
   "outputs": [],
   "source": [
    "#Then let create the objects to define the problem and tipo of individual\n",
    "creator.create(\"FitnessMax\", base.Fitness, weights = (1.0,))\n",
    "creator.create(\"Individual\", list, fitness = creator.FitnessMax)"
   ]
  },
  {
   "cell_type": "code",
   "execution_count": 13,
   "id": "5d407bca-6ec8-4914-be5b-07e3470300b6",
   "metadata": {},
   "outputs": [],
   "source": [
    "#Definition of the funtion to maximize\n",
    "def target_function(x):\n",
    "    for i in range(len(x)):\n",
    "        if x[i] > 100 or x[i] < -100:\n",
    "            return -1\n",
    "    result = math.sqrt(x[0]**2 + x[1] **2)\n",
    "    return result,"
   ]
  },
  {
   "cell_type": "code",
   "execution_count": 14,
   "id": "0e34db7a-d889-49b0-9d7f-c65d35d53351",
   "metadata": {},
   "outputs": [],
   "source": [
    "toolbox = base.Toolbox()"
   ]
  },
  {
   "cell_type": "code",
   "execution_count": 15,
   "id": "aea5a42f-c08e-434f-87f9-ddb012d5ed02",
   "metadata": {},
   "outputs": [],
   "source": [
    "#Gene generation\n",
    "toolbox.register(\"attr_uniform\", random.uniform, -100, 100)"
   ]
  },
  {
   "cell_type": "code",
   "execution_count": 16,
   "id": "031d09e3-fbab-4462-a5b9-39b9c7c20ded",
   "metadata": {},
   "outputs": [],
   "source": [
    "#Individuals and population generation\n",
    "toolbox.register(\"individual\", tools.initRepeat, creator.Individual, toolbox.attr_uniform, 2)\n",
    "toolbox.register(\"population\", tools.initRepeat, list, toolbox.individual, 30)"
   ]
  },
  {
   "cell_type": "code",
   "execution_count": 17,
   "id": "6b7af655-ff35-46a0-89f9-4e1772de3daf",
   "metadata": {},
   "outputs": [],
   "source": [
    "#Register of the genetic operations\n",
    "toolbox.register(\"evaluate\", target_function)\n",
    "toolbox.register(\"mate\", tools.cxOnePoint)\n",
    "toolbox.register(\"mutate\", tools.mutGaussian, mu = 0, sigma = 5, indpb = 0.1)\n",
    "toolbox.register(\"select\", tools.selTournament, tournsize = 3)"
   ]
  },
  {
   "cell_type": "code",
   "execution_count": 18,
   "id": "1a5926e6-935b-4ac7-acf3-f11410446814",
   "metadata": {},
   "outputs": [],
   "source": [
    "#Now the definition of a function to enable the plot of every generation\n",
    "def plot_evolution(log):\n",
    "    gen = log.select(\"gen\")\n",
    "    fit_mins = log.select(\"min\")\n",
    "    fit_maxs = log.select(\"max\")\n",
    "    fit_avg = log.select(\"avg\")\n",
    "    fig, ax1 = plt.subplots()\n",
    "    ax1.plot(gen, fit_mins, \"b\")\n",
    "    ax1.plot(gen, fit_maxs, \"r\")\n",
    "    ax1.plot(gen, fit_avg, \"--k\")\n",
    "    ax1.fill_between(gen, fit_mins, fit_maxs, where = fit_maxs >= fit_mins, facecolor = 'g', alpha = 0.2)\n",
    "    ax1.set_xlabel(\"Generation\")\n",
    "    ax1.set_ylabel(\"Fitness\")\n",
    "    ax1.set_ylim([-10,160])\n",
    "    ax1.legend([\"Min\",\"Max\",\"Avg\"], loc = \"lower center\")\n",
    "    plt.grid(True)\n",
    "    #plt.savefig(\"Convergencia.eps\", dpi = 300)"
   ]
  },
  {
   "cell_type": "code",
   "execution_count": 19,
   "id": "cb1879a4-9d76-43d9-91e7-5a62d48b9827",
   "metadata": {},
   "outputs": [],
   "source": [
    "#Now the main function which will execute the algorithm\n",
    "def main():\n",
    "    random.seed(42)\n",
    "    CXPB, MUTPB, NGEN = 0.5,0.2,20\n",
    "    pop = toolbox.population()\n",
    "    hof = tools.HallOfFame(1)\n",
    "    stats = tools.Statistics(lambda ind: ind.fitness.values)\n",
    "    stats.register(\"avg\", np.mean)\n",
    "    stats.register(\"std\", np.std)\n",
    "    stats.register(\"min\", np.min)\n",
    "    stats.register(\"max\", np.max)\n",
    "    logbook = tools.Logbook()\n",
    "    pop, logbook = algorithms.eaSimple(pop, toolbox, cxpb=CXPB, mutpb=MUTPB, ngen=NGEN, stats=stats, halloffame=hof, verbose=True)\n",
    "    return hof, logbook"
   ]
  },
  {
   "cell_type": "code",
   "execution_count": 23,
   "id": "bd501530-a4b6-4b6a-878d-75bae4bf0214",
   "metadata": {},
   "outputs": [
    {
     "name": "stdout",
     "output_type": "stream",
     "text": [
      "gen\tnevals\tavg    \tstd   \tmin    \tmax    \n",
      "0  \t30    \t77.9162\t24.544\t26.4289\t116.497\n",
      "1  \t15    \t98.1576\t15.6516\t58.7221\t123.194\n",
      "2  \t18    \t108.641\t17.0172\t47.071 \t131.857\n",
      "3  \t24    \t122.041\t7.64215\t99.9797\t134.549\n",
      "4  \t19    \t128.584\t3.92487\t122.005\t134.549\n",
      "5  \t11    \t132.005\t2.13284\t125.135\t134.549\n",
      "6  \t22    \t133.419\t1.60997\t131.169\t136.779\n"
     ]
    },
    {
     "ename": "TypeError",
     "evalue": "object of type 'int' has no len()",
     "output_type": "error",
     "traceback": [
      "\u001b[1;31m---------------------------------------------------------------------------\u001b[0m",
      "\u001b[1;31mTypeError\u001b[0m                                 Traceback (most recent call last)",
      "Cell \u001b[1;32mIn[23], line 3\u001b[0m\n\u001b[0;32m      1\u001b[0m \u001b[38;5;66;03m#Finally execute the algorithm\u001b[39;00m\n\u001b[0;32m      2\u001b[0m \u001b[38;5;28;01mif\u001b[39;00m \u001b[38;5;18m__name__\u001b[39m \u001b[38;5;241m==\u001b[39m \u001b[38;5;124m\"\u001b[39m\u001b[38;5;124m__main__\u001b[39m\u001b[38;5;124m\"\u001b[39m:\n\u001b[1;32m----> 3\u001b[0m     best, log \u001b[38;5;241m=\u001b[39m \u001b[43mmain\u001b[49m\u001b[43m(\u001b[49m\u001b[43m)\u001b[49m\n\u001b[0;32m      4\u001b[0m     \u001b[38;5;28mprint\u001b[39m(\u001b[38;5;124m\"\u001b[39m\u001b[38;5;124mBest fitness: \u001b[39m\u001b[38;5;124m\"\u001b[39m, best[\u001b[38;5;241m0\u001b[39m]\u001b[38;5;241m.\u001b[39mfitness\u001b[38;5;241m.\u001b[39mvalues)\n\u001b[0;32m      5\u001b[0m     \u001b[38;5;28mprint\u001b[39m(\u001b[38;5;124m\"\u001b[39m\u001b[38;5;124mBest individual: \u001b[39m\u001b[38;5;124m\"\u001b[39m, best[\u001b[38;5;241m0\u001b[39m])\n",
      "Cell \u001b[1;32mIn[19], line 13\u001b[0m, in \u001b[0;36mmain\u001b[1;34m()\u001b[0m\n\u001b[0;32m     11\u001b[0m stats\u001b[38;5;241m.\u001b[39mregister(\u001b[38;5;124m\"\u001b[39m\u001b[38;5;124mmax\u001b[39m\u001b[38;5;124m\"\u001b[39m, np\u001b[38;5;241m.\u001b[39mmax)\n\u001b[0;32m     12\u001b[0m logbook \u001b[38;5;241m=\u001b[39m tools\u001b[38;5;241m.\u001b[39mLogbook()\n\u001b[1;32m---> 13\u001b[0m pop, logbook \u001b[38;5;241m=\u001b[39m \u001b[43malgorithms\u001b[49m\u001b[38;5;241;43m.\u001b[39;49m\u001b[43meaSimple\u001b[49m\u001b[43m(\u001b[49m\u001b[43mpop\u001b[49m\u001b[43m,\u001b[49m\u001b[43m \u001b[49m\u001b[43mtoolbox\u001b[49m\u001b[43m,\u001b[49m\u001b[43m \u001b[49m\u001b[43mcxpb\u001b[49m\u001b[38;5;241;43m=\u001b[39;49m\u001b[43mCXPB\u001b[49m\u001b[43m,\u001b[49m\u001b[43m \u001b[49m\u001b[43mmutpb\u001b[49m\u001b[38;5;241;43m=\u001b[39;49m\u001b[43mMUTPB\u001b[49m\u001b[43m,\u001b[49m\u001b[43m \u001b[49m\u001b[43mngen\u001b[49m\u001b[38;5;241;43m=\u001b[39;49m\u001b[43mNGEN\u001b[49m\u001b[43m,\u001b[49m\u001b[43m \u001b[49m\u001b[43mstats\u001b[49m\u001b[38;5;241;43m=\u001b[39;49m\u001b[43mstats\u001b[49m\u001b[43m,\u001b[49m\u001b[43m \u001b[49m\u001b[43mhalloffame\u001b[49m\u001b[38;5;241;43m=\u001b[39;49m\u001b[43mhof\u001b[49m\u001b[43m,\u001b[49m\u001b[43m \u001b[49m\u001b[43mverbose\u001b[49m\u001b[38;5;241;43m=\u001b[39;49m\u001b[38;5;28;43;01mTrue\u001b[39;49;00m\u001b[43m)\u001b[49m\n\u001b[0;32m     14\u001b[0m \u001b[38;5;28;01mreturn\u001b[39;00m hof, logbook\n",
      "File \u001b[1;32m~\\AppData\\Local\\Programs\\Python\\Python310\\lib\\site-packages\\deap\\algorithms.py:174\u001b[0m, in \u001b[0;36meaSimple\u001b[1;34m(population, toolbox, cxpb, mutpb, ngen, stats, halloffame, verbose)\u001b[0m\n\u001b[0;32m    172\u001b[0m fitnesses \u001b[38;5;241m=\u001b[39m toolbox\u001b[38;5;241m.\u001b[39mmap(toolbox\u001b[38;5;241m.\u001b[39mevaluate, invalid_ind)\n\u001b[0;32m    173\u001b[0m \u001b[38;5;28;01mfor\u001b[39;00m ind, fit \u001b[38;5;129;01min\u001b[39;00m \u001b[38;5;28mzip\u001b[39m(invalid_ind, fitnesses):\n\u001b[1;32m--> 174\u001b[0m     \u001b[43mind\u001b[49m\u001b[38;5;241;43m.\u001b[39;49m\u001b[43mfitness\u001b[49m\u001b[38;5;241;43m.\u001b[39;49m\u001b[43mvalues\u001b[49m \u001b[38;5;241m=\u001b[39m fit\n\u001b[0;32m    176\u001b[0m \u001b[38;5;66;03m# Update the hall of fame with the generated individuals\u001b[39;00m\n\u001b[0;32m    177\u001b[0m \u001b[38;5;28;01mif\u001b[39;00m halloffame \u001b[38;5;129;01mis\u001b[39;00m \u001b[38;5;129;01mnot\u001b[39;00m \u001b[38;5;28;01mNone\u001b[39;00m:\n",
      "File \u001b[1;32m~\\AppData\\Local\\Programs\\Python\\Python310\\lib\\site-packages\\deap\\base.py:188\u001b[0m, in \u001b[0;36mFitness.setValues\u001b[1;34m(self, values)\u001b[0m\n\u001b[0;32m    187\u001b[0m \u001b[38;5;28;01mdef\u001b[39;00m \u001b[38;5;21msetValues\u001b[39m(\u001b[38;5;28mself\u001b[39m, values):\n\u001b[1;32m--> 188\u001b[0m     \u001b[38;5;28;01massert\u001b[39;00m \u001b[38;5;28;43mlen\u001b[39;49m\u001b[43m(\u001b[49m\u001b[43mvalues\u001b[49m\u001b[43m)\u001b[49m \u001b[38;5;241m==\u001b[39m \u001b[38;5;28mlen\u001b[39m(\u001b[38;5;28mself\u001b[39m\u001b[38;5;241m.\u001b[39mweights), \u001b[38;5;124m\"\u001b[39m\u001b[38;5;124mAssigned values have not the same length than fitness weights\u001b[39m\u001b[38;5;124m\"\u001b[39m\n\u001b[0;32m    189\u001b[0m     \u001b[38;5;28;01mtry\u001b[39;00m:\n\u001b[0;32m    190\u001b[0m         \u001b[38;5;28mself\u001b[39m\u001b[38;5;241m.\u001b[39mwvalues \u001b[38;5;241m=\u001b[39m \u001b[38;5;28mtuple\u001b[39m(\u001b[38;5;28mmap\u001b[39m(mul, values, \u001b[38;5;28mself\u001b[39m\u001b[38;5;241m.\u001b[39mweights))\n",
      "\u001b[1;31mTypeError\u001b[0m: object of type 'int' has no len()"
     ]
    }
   ],
   "source": [
    "#Finally execute the algorithm\n",
    "if __name__ == \"__main__\":\n",
    "    best, log = main()\n",
    "    print(\"Best fitness: \", best[0].fitness.values)\n",
    "    print(\"Best individual: \", best[0])\n",
    "    plot_evolution(log)"
   ]
  },
  {
   "cell_type": "code",
   "execution_count": null,
   "id": "f16c0de1-fe7c-4814-a58c-d1e988aae719",
   "metadata": {},
   "outputs": [],
   "source": []
  },
  {
   "cell_type": "code",
   "execution_count": null,
   "id": "0e1d471d-3e46-4f9f-bbdc-ab7db5b56d7b",
   "metadata": {},
   "outputs": [],
   "source": []
  }
 ],
 "metadata": {
  "kernelspec": {
   "display_name": "Python 3 (ipykernel)",
   "language": "python",
   "name": "python3"
  },
  "language_info": {
   "codemirror_mode": {
    "name": "ipython",
    "version": 3
   },
   "file_extension": ".py",
   "mimetype": "text/x-python",
   "name": "python",
   "nbconvert_exporter": "python",
   "pygments_lexer": "ipython3",
   "version": "3.10.5"
  }
 },
 "nbformat": 4,
 "nbformat_minor": 5
}
